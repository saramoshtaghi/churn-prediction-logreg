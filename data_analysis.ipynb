{
 "cells": [
  {
   "cell_type": "markdown",
   "id": "8651bc82",
   "metadata": {},
   "source": [
    "\n",
    "# Quick Data Analysis – Churn Dataset\n",
    "\n",
    "This notebook prints the **head of the data**, counts **rows/columns**, shows **dtypes & missing values**, and reports **how many churn vs. not-churn** in the **original data** (no resampling).\n",
    "\n",
    "**How to use:**\n",
    "1. Update `DATA_PATH` below to point to your CSV (default assumes the processed file).\n",
    "2. Run the cells top-to-bottom.\n"
   ]
  },
  {
   "cell_type": "code",
   "execution_count": null,
   "id": "3c8e51c3",
   "metadata": {},
   "outputs": [],
   "source": [
    "\n",
    "# === Configuration ===\n",
    "# Update this path if your file is located elsewhere.\n",
    "DATA_PATH = \"data/processed/telecom_churn_processed.csv\"  # e.g., \"data/raw/Customer Churn.csv\"\n",
    "\n",
    "# Target column auto-detection candidates (feel free to edit)\n",
    "TARGET_CANDIDATES = [\"churn\", \"Churn\", \"Exited\"]\n"
   ]
  },
  {
   "cell_type": "code",
   "execution_count": null,
   "id": "f1a23ba5",
   "metadata": {},
   "outputs": [],
   "source": [
    "\n",
    "import pandas as pd\n",
    "import numpy as np\n",
    "\n",
    "pd.set_option(\"display.max_rows\", 100)\n",
    "pd.set_option(\"display.max_columns\", 100)\n"
   ]
  },
  {
   "cell_type": "code",
   "execution_count": null,
   "id": "7e411e9f",
   "metadata": {},
   "outputs": [],
   "source": [
    "\n",
    "# === Load data ===\n",
    "print(f\"Reading CSV from: {DATA_PATH}\")\n",
    "df = pd.read_csv(DATA_PATH)\n",
    "print(\"Loaded! Shape =\", df.shape)\n",
    "df.head()\n"
   ]
  },
  {
   "cell_type": "code",
   "execution_count": null,
   "id": "36d0529a",
   "metadata": {},
   "outputs": [],
   "source": [
    "\n",
    "# === Basic dataset info ===\n",
    "n_rows, n_cols = df.shape\n",
    "print(f\"Rows: {n_rows}\")\n",
    "print(f\"Columns: {n_cols}\\n\")\n",
    "\n",
    "print(\"Column names:\")\n",
    "print(list(df.columns))\n",
    "\n",
    "print(\"\\nData types:\")\n",
    "print(df.dtypes)\n",
    "\n",
    "print(\"\\nMissing values per column:\")\n",
    "print(df.isna().sum())\n"
   ]
  },
  {
   "cell_type": "code",
   "execution_count": null,
   "id": "2d3a507f",
   "metadata": {},
   "outputs": [],
   "source": [
    "\n",
    "# === Churn counts (original data) ===\n",
    "\n",
    "# Try to find the target column among candidates\n",
    "target_col = None\n",
    "for c in TARGET_CANDIDATES:\n",
    "    if c in df.columns:\n",
    "        target_col = c\n",
    "        break\n",
    "\n",
    "if target_col is None:\n",
    "    raise ValueError(f\"Could not find target column among {TARGET_CANDIDATES}. \"\n",
    "                     f\"Please set TARGET_CANDIDATES or rename your target to 'churn'.\")\n",
    "\n",
    "# Standardize to numeric 0/1 if possible\n",
    "if df[target_col].dtype == object:\n",
    "    # unify common text labels (yes/no, true/false)\n",
    "    mapped = df[target_col].astype(str).str.strip().str.lower().map({\n",
    "        \"yes\": 1, \"no\": 0, \"true\": 1, \"false\": 0\n",
    "    })\n",
    "    # if mapping produced many NaNs, keep original values; else use mapped\n",
    "    if mapped.notna().mean() > 0.5:\n",
    "        df[target_col] = mapped\n",
    "\n",
    "# Coerce to numeric if still not numeric\n",
    "if not np.issubdtype(df[target_col].dtype, np.number):\n",
    "    df[target_col] = pd.to_numeric(df[target_col], errors=\"coerce\")\n",
    "\n",
    "# Drop rows where target is missing for counting\n",
    "df_non_null = df.dropna(subset=[target_col])\n",
    "\n",
    "# Compute counts\n",
    "vc = df_non_null[target_col].value_counts(dropna=False).sort_index()\n",
    "print(f\"\\nTarget column detected: {target_col}\")\n",
    "print(\"\\nChurn value counts (original data):\")\n",
    "print(vc)\n",
    "\n",
    "# If binary numeric 0/1, print user-friendly names\n",
    "if set(vc.index).issubset({0, 1}):\n",
    "    n_not_churn = int(vc.get(0, 0))\n",
    "    n_churn = int(vc.get(1, 0))\n",
    "    print(f\"\\nNot Churn (0): {n_not_churn}\")\n",
    "    print(f\"Churn     (1): {n_churn}\")\n",
    "    print(f\"Total (non-null target): {n_not_churn + n_churn}\")\n"
   ]
  },
  {
   "cell_type": "markdown",
   "id": "b4375d74",
   "metadata": {},
   "source": [
    "\n",
    "---\n",
    "\n",
    "**Tip:** If your target column is named differently, add it to `TARGET_CANDIDATES` at the top or rename it to `churn` in your CSV.\n"
   ]
  }
 ],
 "metadata": {},
 "nbformat": 4,
 "nbformat_minor": 5
}